{
 "cells": [
  {
   "cell_type": "markdown",
   "metadata": {},
   "source": [
    "# Image to Text using Pytesseract"
   ]
  },
  {
   "cell_type": "code",
   "execution_count": 1,
   "metadata": {},
   "outputs": [],
   "source": [
    "import pytesseract  # Import pytesseract\n",
    "pytesseract.pytesseract.tesseract_cmd = 'C:\\\\Users\\\\HP\\\\AppData\\\\Local\\\\Tesseract-OCR\\\\tesseract.exe'  # Setting up path of pytesseract"
   ]
  },
  {
   "cell_type": "code",
   "execution_count": 2,
   "metadata": {},
   "outputs": [],
   "source": [
    "import cv2 # import cv2"
   ]
  },
  {
   "cell_type": "code",
   "execution_count": 3,
   "metadata": {},
   "outputs": [],
   "source": [
    "img  = cv2.imread('4.png') # read image\n",
    "cv2.imshow(\"sample image\", img) # display image\n",
    "cv2.waitKey(0)\n",
    "cv2.destroyAllWindows()"
   ]
  },
  {
   "cell_type": "code",
   "execution_count": 4,
   "metadata": {},
   "outputs": [],
   "source": [
    "text = pytesseract.image_to_string(img) # Extract text from image"
   ]
  },
  {
   "cell_type": "code",
   "execution_count": 5,
   "metadata": {},
   "outputs": [
    {
     "name": "stdout",
     "output_type": "stream",
     "text": [
      "PREREQUISITES\n",
      "\n",
      "In order to make the most of this, you will need to have\n",
      "alittle bit of programming experience. All examples in this\n",
      "book are in the Python programming language. Familiarity\n",
      "with Python or other scripting languages is suggested, but\n",
      "not required.\n",
      "\n",
      "You'll also need to know some basic mathematics. This\n",
      "book is hands-on and example driven: lots of examples and\n",
      "lots of code, so even if your math skills are not up to par,\n",
      "do not worry! The examples are very detailed and heavily\n",
      "documented to help you follow along.\n"
     ]
    }
   ],
   "source": [
    "print(text) # printing text"
   ]
  },
  {
   "cell_type": "code",
   "execution_count": null,
   "metadata": {},
   "outputs": [],
   "source": []
  }
 ],
 "metadata": {
  "kernelspec": {
   "display_name": "Python 3",
   "language": "python",
   "name": "python3"
  },
  "language_info": {
   "codemirror_mode": {
    "name": "ipython",
    "version": 3
   },
   "file_extension": ".py",
   "mimetype": "text/x-python",
   "name": "python",
   "nbconvert_exporter": "python",
   "pygments_lexer": "ipython3",
   "version": "3.7.4"
  }
 },
 "nbformat": 4,
 "nbformat_minor": 2
}
